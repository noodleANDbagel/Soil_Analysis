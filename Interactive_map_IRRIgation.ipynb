{
 "cells": [
  {
   "cell_type": "code",
   "execution_count": 1,
   "id": "b1c8e21b",
   "metadata": {
    "id": "b1c8e21b"
   },
   "outputs": [],
   "source": [
    "# Check geemap installation\n",
    "import subprocess\n",
    "\n",
    "try:\n",
    "    import geemap\n",
    "except ImportError:\n",
    "    print('geemap package is not installed. Installing ...')\n",
    "    subprocess.check_call([\"python\", '-m', 'pip', 'install', 'geemap'])"
   ]
  },
  {
   "cell_type": "code",
   "execution_count": 10,
   "id": "3aa8b6f5",
   "metadata": {},
   "outputs": [
    {
     "name": "stdout",
     "output_type": "stream",
     "text": [
      "8.0.4\n"
     ]
    }
   ],
   "source": [
    "import ipywidgets\n",
    "print (ipywidgets.__version__)"
   ]
  },
  {
   "cell_type": "code",
   "execution_count": 5,
   "id": "5b67e145",
   "metadata": {
    "id": "5b67e145"
   },
   "outputs": [],
   "source": [
    "# Import libraries\n",
    "import os\n",
    "import ee\n",
    "import geemap\n",
    "import ipywidgets as widgets\n",
    "from bqplot import pyplot as plt\n",
    "from ipyleaflet import WidgetControl"
   ]
  },
  {
   "cell_type": "code",
   "execution_count": 6,
   "id": "42c23a60",
   "metadata": {
    "colab": {
     "referenced_widgets": [
      "5f0962c29e2e443f8c2223d006d13a99"
     ]
    },
    "id": "42c23a60",
    "outputId": "ef07e9ae-53cc-4d59-e798-6713fec948fe"
   },
   "outputs": [
    {
     "data": {
      "application/vnd.jupyter.widget-view+json": {
       "model_id": "2afd8bdd723047bdbbb4ffbcc4778cf7",
       "version_major": 2,
       "version_minor": 0
      },
      "text/plain": [
       "Map(center=[40, -100], controls=(WidgetControl(options=['position', 'transparent_bg'], widget=HBox(children=(T…"
      ]
     },
     "execution_count": 6,
     "metadata": {},
     "output_type": "execute_result"
    }
   ],
   "source": [
    "# Create an interactive map\n",
    "Map = geemap.Map(center=[40, -100], zoom=4, add_google_map=False)\n",
    "Map.add_basemap('HYBRID')\n",
    "Map.add_basemap('ROADMAP')\n",
    "\n",
    "# Add Earth Engine data\n",
    "fc = ee.FeatureCollection('TIGER/2018/Counties')\n",
    "Map.addLayer(fc, {}, 'US Counties')\n",
    "\n",
    "states = ee.FeatureCollection('TIGER/2018/States')\n",
    "Map.addLayer(states, {}, 'US States')\n",
    "\n",
    "        \n",
    "\n",
    "Map"
   ]
  },
  {
   "cell_type": "code",
   "execution_count": 7,
   "id": "e4d5e238",
   "metadata": {
    "colab": {
     "referenced_widgets": [
      "020d5850ba72475d8891bdb04e7f2412"
     ]
    },
    "id": "e4d5e238",
    "outputId": "cf60836e-ab92-4367-f8a3-1f584ffbfddb"
   },
   "outputs": [
    {
     "data": {
      "application/vnd.jupyter.widget-view+json": {
       "model_id": "291d4f3e7eca436c8c54b6293c6d4c2d",
       "version_major": 2,
       "version_minor": 0
      },
      "text/plain": [
       "VBox(children=(HBox(children=(Text(value='Tennessee', description='State:', style=TextStyle(description_width=…"
      ]
     },
     "execution_count": 7,
     "metadata": {},
     "output_type": "execute_result"
    }
   ],
   "source": [
    "# Design interactive widgets\n",
    "\n",
    "style = {'description_width': 'initial'}\n",
    "\n",
    "output_widget = widgets.Output(layout={'border': '1px solid black'})\n",
    "output_control = WidgetControl(widget=output_widget, position='bottomleft')\n",
    "Map.add_control(output_control)\n",
    "\n",
    "admin1_widget = widgets.Text(\n",
    "    description='State:', value='Tennessee', width=200, style=style\n",
    ")\n",
    "\n",
    "admin2_widget = widgets.Text(\n",
    "    description='County:', value='Knox', width=300, style=style\n",
    ")\n",
    "\n",
    "aoi_widget = widgets.Checkbox(\n",
    "    value=False, description='Use user-drawn AOI', style=style\n",
    ")\n",
    "\n",
    "download_widget = widgets.Checkbox(\n",
    "    value=False, description='Download chart data', style=style\n",
    ")\n",
    "\n",
    "\n",
    "def aoi_change(change):\n",
    "    Map.layers = Map.layers[:4]\n",
    "    Map.user_roi = None\n",
    "    Map.user_rois = None\n",
    "    Map.draw_count = 0\n",
    "    admin1_widget.value = ''\n",
    "    admin2_widget.value = ''\n",
    "    output_widget.clear_output()\n",
    "\n",
    "aoi_widget.observe(aoi_change, names='value')\n",
    "\n",
    "\n",
    "year_widget = widgets.IntSlider(\n",
    "    min=1984, max=2022, value=2022, description='Selected year:', width=400, style=style\n",
    ")\n",
    "\n",
    "nd_threshold = widgets.FloatSlider(\n",
    "    value=0,\n",
    "    min=-1,\n",
    "    max=1,\n",
    "    step=0.01,\n",
    "    description='Threshold:',\n",
    "    orientation='horizontal',\n",
    "    style=style,\n",
    ")\n",
    "\n",
    "\n",
    "# Normalized Satellite Indices: https://www.usna.edu/Users/oceano/pguth/md_help/html/norm_sat.htm\n",
    "\n",
    "\n",
    "# nd_indices.observe(nd_index_change, names='value')\n",
    "\n",
    "submit = widgets.Button(\n",
    "    description='Submit', button_style='primary', tooltip='Click me', style=style\n",
    ")\n",
    "\n",
    "full_widget = widgets.VBox(\n",
    "    [\n",
    "        widgets.HBox([admin1_widget, admin2_widget,year_widget]),\n",
    "        widgets.HBox([aoi_widget, download_widget,nd_threshold]),\n",
    "        submit,\n",
    "    ]\n",
    ")\n",
    "\n",
    "full_widget"
   ]
  },
  {
   "cell_type": "code",
   "execution_count": 8,
   "id": "ff1bc4d6",
   "metadata": {
    "id": "ff1bc4d6"
   },
   "outputs": [],
   "source": [
    "# Capture user interaction with the map\n",
    "\n",
    "\n",
    "def handle_interaction(**kwargs):\n",
    "    # retrive the coordinates after a click\n",
    "    latlon = kwargs.get('coordinates')\n",
    "    if kwargs.get('type') == 'click' and not aoi_widget.value:\n",
    "        Map.default_style = {'cursor': 'wait'}\n",
    "        xy = ee.Geometry.Point(latlon[::-1])\n",
    "        selected_fc = fc.filterBounds(xy)\n",
    "\n",
    "        with output_widget:\n",
    "            output_widget.clear_output()\n",
    "\n",
    "            \n",
    "            # retrive the county and state name\n",
    "            try:\n",
    "                feature = selected_fc.first()\n",
    "                admin2_id = feature.get('NAME').getInfo()\n",
    "                statefp = feature.get('STATEFP')\n",
    "                admin1_fc = ee.Feature(\n",
    "                    states.filter(ee.Filter.eq('STATEFP', statefp)).first()\n",
    "                )\n",
    "                admin1_id = admin1_fc.get('NAME').getInfo()\n",
    "                admin1_widget.value = admin1_id\n",
    "                admin2_widget.value = admin2_id\n",
    "                Map.layers = Map.layers[:4]\n",
    "                geom = selected_fc.geometry()\n",
    "                layer_name = admin1_id + '-' + admin2_id\n",
    "                Map.addLayer(\n",
    "                    ee.Image().paint(geom, 0, 2), {'palette': 'red'}, layer_name\n",
    "                )\n",
    "                print(layer_name)\n",
    "            except:\n",
    "                print('No feature could be found')\n",
    "                Map.layers = Map.layers[:4]\n",
    "\n",
    "        Map.default_style = {'cursor': 'pointer'}\n",
    "    else:\n",
    "        Map.draw_count = 0\n",
    "\n",
    "\n",
    "Map.on_interaction(handle_interaction)"
   ]
  },
  {
   "cell_type": "code",
   "execution_count": 9,
   "id": "0cb3a666",
   "metadata": {
    "id": "0cb3a666"
   },
   "outputs": [],
   "source": [
    "# Click event handler\n",
    "\n",
    "\n",
    "def submit_clicked(b):\n",
    "\n",
    "    with output_widget:\n",
    "        output_widget.clear_output()\n",
    "        print('Computing...')\n",
    "        Map.default_style = {'cursor': 'wait'}\n",
    "\n",
    "        \n",
    "        # retrive the value from widget\n",
    "        try:\n",
    "            admin1_id = admin1_widget.value\n",
    "            admin2_id = admin2_widget.value\n",
    "            selected_year = year_widget.value\n",
    "            use_aoi = aoi_widget.value\n",
    "            threshold = nd_threshold.value\n",
    "\n",
    "\n",
    "            if use_aoi:\n",
    "                if Map.user_roi is not None:\n",
    "                    roi = Map.user_roi\n",
    "                    layer_name = 'User drawn AOI'\n",
    "                    geom = roi\n",
    "                else:\n",
    "                    output_widget.clear_output()\n",
    "                    print('No user AOI could be found.')\n",
    "                    return\n",
    "            else:\n",
    "\n",
    "                # retrive the polygon (ROI)\n",
    "                statefp = ee.Feature(\n",
    "                    states.filter(ee.Filter.eq('NAME', admin1_id)).first()\n",
    "                ).get('STATEFP')\n",
    "                roi = fc.filter(\n",
    "                    ee.Filter.And(\n",
    "                        ee.Filter.eq('NAME', admin2_id),\n",
    "                        ee.Filter.eq('STATEFP', statefp),\n",
    "                    )\n",
    "                )\n",
    "                layer_name = admin1_id + '-' + admin2_id\n",
    "                geom = roi.geometry()\n",
    "\n",
    "            Map.layers = Map.layers[:4]     # maybe the US county\n",
    "            Map.addLayer(ee.Image().paint(geom, 0, 2), {'palette': 'red'}, layer_name)\n",
    "\n",
    "            \n",
    "                     \n",
    "           # Irrigation index added  \n",
    "            ERA5_images_first = (ee.ImageCollection(\"ECMWF/ERA5_LAND/MONTHLY_BY_HOUR\"))\n",
    "            ERA5_images = ERA5_images_first.first()\n",
    "            ERA5_image_irri = ERA5_images.clip(geom)\n",
    "\n",
    "            irrigation = ERA5_image_irri.expression(\n",
    "             'band1 - band2',\n",
    "             { \n",
    "               'band1': ERA5_image_irri.select('total_precipitation'),\n",
    "               'band2': ERA5_image_irri.select('total_evaporation')\n",
    "             })\n",
    "\n",
    "            #ERA5 bands, climate_image\n",
    "#             Map.addLayer(ERA5_image_irri, {'bands': ['total_precipitation','total_evaporation']}, 'climate_image')\n",
    "\n",
    "            # irrigation index\n",
    "            Map.addLayer(irrigation, \n",
    "             {'min':-0.0001, 'max':0.0004,\n",
    "             'palette': \n",
    "              [\n",
    "                \"#000080\",\"#0000D9\",\"#4000FF\",\"#8000FF\",\"#0080FF\",\"#00FFFF\",\n",
    "                \"#00FF80\",\"#80FF00\",\"#DAFF00\",\"#FFFF00\",\"#FFF500\",\"#FFDA00\",\n",
    "                \"#FFB000\",\"#FFA400\",\"#FF4F00\",\"#FF2500\",\"#FF0A00\",\"#FF00FF\",\n",
    "                ]\n",
    "             },\n",
    "             'irrigation_index')\n",
    "        \n",
    "        \n",
    "            # add colorbar\n",
    "            colors = [\n",
    "                \"#000080\",\"#0000D9\",\"#4000FF\",\"#8000FF\",\"#0080FF\",\"#00FFFF\",\n",
    "                \"#00FF80\",\"#80FF00\",\"#DAFF00\",\"#FFFF00\",\"#FFF500\",\"#FFDA00\",\n",
    "                \"#FFB000\",\"#FFA400\",\"#FF4F00\",\"#FF2500\",\"#FF0A00\",\"#FF00FF\",\n",
    "                ]\n",
    "            vmin = -0.0001\n",
    "            vmax = 0.0004\n",
    "\n",
    "            Map.add_colorbar_branca(colors=colors, vmin=vmin, vmax=vmax, categorrical=True, step=4)\n",
    "            Map.addLayerControl()\n",
    "        \n",
    "        except Exception as e:\n",
    "            print(e)\n",
    "            print('An error occurred during computation.')\n",
    "\n",
    "        Map.default_style = {'cursor': 'default'}\n",
    "\n",
    "\n",
    "submit.on_click(submit_clicked)"
   ]
  },
  {
   "cell_type": "code",
   "execution_count": null,
   "id": "a9a3242d",
   "metadata": {
    "id": "a9a3242d"
   },
   "outputs": [],
   "source": []
  }
 ],
 "metadata": {
  "colab": {
   "provenance": []
  },
  "kernelspec": {
   "display_name": "Python 3 (ipykernel)",
   "language": "python",
   "name": "python3"
  },
  "language_info": {
   "codemirror_mode": {
    "name": "ipython",
    "version": 3
   },
   "file_extension": ".py",
   "mimetype": "text/x-python",
   "name": "python",
   "nbconvert_exporter": "python",
   "pygments_lexer": "ipython3",
   "version": "3.9.7"
  }
 },
 "nbformat": 4,
 "nbformat_minor": 5
}
